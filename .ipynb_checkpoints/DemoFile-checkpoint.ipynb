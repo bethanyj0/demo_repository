{
 "cells": [
  {
   "cell_type": "markdown",
   "id": "da191020",
   "metadata": {},
   "source": [
    "# Markdown\n",
    "This is a markdown cell."
   ]
  },
  {
   "cell_type": "code",
   "execution_count": 1,
   "id": "36a03118",
   "metadata": {},
   "outputs": [
    {
     "data": {
      "text/plain": [
       "4"
      ]
     },
     "execution_count": 1,
     "metadata": {},
     "output_type": "execute_result"
    }
   ],
   "source": [
    "#Code\n",
    "2+2"
   ]
  },
  {
   "cell_type": "code",
   "execution_count": null,
   "id": "5c04f6bd",
   "metadata": {},
   "outputs": [],
   "source": []
  }
 ],
 "metadata": {
  "kernelspec": {
   "display_name": "Python 3 (ipykernel)",
   "language": "python",
   "name": "python3"
  },
  "language_info": {
   "codemirror_mode": {
    "name": "ipython",
    "version": 3
   },
   "file_extension": ".py",
   "mimetype": "text/x-python",
   "name": "python",
   "nbconvert_exporter": "python",
   "pygments_lexer": "ipython3",
   "version": "3.10.11"
  }
 },
 "nbformat": 4,
 "nbformat_minor": 5
}
